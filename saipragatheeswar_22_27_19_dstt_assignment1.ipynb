{
  "cells": [
    {
      "cell_type": "markdown",
      "metadata": {
        "id": "view-in-github",
        "colab_type": "text"
      },
      "source": [
        "<a href=\"https://colab.research.google.com/github/saipragatheeswar/DSTT-Assignment/blob/main/saipragatheeswar_22_27_19_dstt_assignment1.ipynb\" target=\"_parent\"><img src=\"https://colab.research.google.com/assets/colab-badge.svg\" alt=\"Open In Colab\"/></a>"
      ]
    },
    {
      "cell_type": "markdown",
      "id": "0cd8fd11",
      "metadata": {
        "id": "0cd8fd11"
      },
      "source": [
        "# NAME     : SAIPRAGATHEESWAR G\n",
        "# REG NO : 22-27-19"
      ]
    },
    {
      "cell_type": "markdown",
      "id": "ce4fca1a",
      "metadata": {
        "id": "ce4fca1a"
      },
      "source": [
        "question 1"
      ]
    },
    {
      "cell_type": "code",
      "execution_count": null,
      "id": "f076a47b",
      "metadata": {
        "id": "f076a47b",
        "outputId": "12084638-8c9c-4cd0-ab4d-ef1f4541dda1"
      },
      "outputs": [
        {
          "name": "stdout",
          "output_type": "stream",
          "text": [
            "first array         = [3, 5, 6, 8, 9, 20]\n",
            "reversed array      = [20, 9, 8, 6, 5, 3]\n",
            "60 45 48 48 45 60 "
          ]
        }
      ],
      "source": [
        "#program to reverse an array\n",
        "\n",
        "def reverse(arr):\n",
        "    reversed_array=[]\n",
        "    if arr==[]:\n",
        "        return arr\n",
        "    else:\n",
        "        for i in range(len(arr)):\n",
        "            reverse_value=arr[-1]\n",
        "            reversed_array.append(reverse_value)\n",
        "            arr.pop()\n",
        "    return reversed_array\n",
        "\n",
        "#program for matrix multiplication of array and reversed array\n",
        "\n",
        "def matrix_multiplication(arr1,arr2):\n",
        "    m_m=[]\n",
        "    for i in range(len(arr1)):\n",
        "        m_m.append(arr1[i]*arr2[i])\n",
        "    return m_m\n",
        "\n",
        "#program to print resultant array\n",
        "\n",
        "def print_resultant_array(result):\n",
        "    for i in range(len(result)):\n",
        "        print(result[i],end=\" \")\n",
        "#driver code\n",
        "\n",
        "#getting input from users\n",
        "\n",
        "#arr1=[]\n",
        "#n=int(input(\"enter the number of values to insert in array:\"))\n",
        "#for i in range(n):\n",
        "#  v=int(input(\"enter the values:\"))\n",
        "#  arr1.append(v)\n",
        "\n",
        "#directly checking result for some example array\n",
        "\n",
        "arr1=[3,5,6,8,9,20]\n",
        "x=arr1.copy()\n",
        "arr2=reverse(x)\n",
        "print(\"first array         = {}\".format(arr1))\n",
        "print(\"reversed array      = {}\".format(arr2))\n",
        "\n",
        "result = matrix_multiplication(arr1,arr2)\n",
        "#print(\"the required output = {}\".format(result))\n",
        "print_resultant_array(result)"
      ]
    },
    {
      "cell_type": "markdown",
      "id": "cfb66106",
      "metadata": {
        "id": "cfb66106"
      },
      "source": [
        "question 2"
      ]
    },
    {
      "cell_type": "code",
      "execution_count": null,
      "id": "ac07bca5",
      "metadata": {
        "id": "ac07bca5",
        "outputId": "d815343f-3342-48e7-daf3-3e95fcec6f53"
      },
      "outputs": [
        {
          "name": "stdout",
          "output_type": "stream",
          "text": [
            "2nd maximum in the array is : 77\n",
            "2nd minimum in the array is : 3\n"
          ]
        }
      ],
      "source": [
        "#program to sort the list\n",
        "\n",
        "def sort_the_array(array):\n",
        "    for i in range(len(array)):\n",
        "        for j in range(0, len(array) - i - 1):\n",
        "            if array[j] > array[j + 1]:\n",
        "                temp = array[j]\n",
        "                array[j] = array[j+1]\n",
        "                array[j+1] = temp\n",
        "                \n",
        "#program to find 2nd min and max\n",
        "\n",
        "def second_min_and_max(array):\n",
        "    sorted_array = sort_the_array(array)\n",
        "    if array == []:\n",
        "        print(\"input values in the array\")\n",
        "    else:\n",
        "        print(\"2nd maximum in the array is : {}\".format(array[-2]))\n",
        "        print(\"2nd minimum in the array is : {}\".format(array[1]))       \n",
        "\n",
        "#driver code\n",
        "\n",
        "array = [4,6,2,45,77,8,90,3]\n",
        "second_min_and_max(array)\n",
        "\n",
        "\n",
        "\n"
      ]
    },
    {
      "cell_type": "markdown",
      "id": "2f8e8bf7",
      "metadata": {
        "id": "2f8e8bf7"
      },
      "source": [
        "question 3"
      ]
    },
    {
      "cell_type": "code",
      "execution_count": null,
      "id": "c7fc1a91",
      "metadata": {
        "id": "c7fc1a91",
        "outputId": "e221162b-a023-4c84-a8b8-90ce7afa9308"
      },
      "outputs": [
        {
          "data": {
            "text/plain": [
              "[2, 4, 6, 7, 88, 32]"
            ]
          },
          "execution_count": 3,
          "metadata": {},
          "output_type": "execute_result"
        }
      ],
      "source": [
        "#program to remove multiply of 5\n",
        "\n",
        "def remove_multiply_of_5(array):\n",
        "    array_without_multiply_of_5 = []\n",
        "    for i in range(len(array)):\n",
        "        if (array[i]%5 != 0):\n",
        "            array_without_multiply_of_5.append(array[i])\n",
        "    return array_without_multiply_of_5       \n",
        "            \n",
        "#driver code \n",
        "\n",
        "array = [2,4,5,6,7,88,90,50,45,32,35]\n",
        "remove_multiply_of_5(array)"
      ]
    },
    {
      "cell_type": "markdown",
      "id": "838a1c98",
      "metadata": {
        "id": "838a1c98"
      },
      "source": [
        "question 4"
      ]
    },
    {
      "cell_type": "code",
      "execution_count": null,
      "id": "10d606f9",
      "metadata": {
        "id": "10d606f9",
        "outputId": "b133f4b1-3f3f-4138-8437-0c2afc4eaf96"
      },
      "outputs": [
        {
          "name": "stdout",
          "output_type": "stream",
          "text": [
            "enter the value of digit contain 0 and 1 only :101\n",
            "yes\n"
          ]
        }
      ],
      "source": [
        "#program to find solution for changing one digit will give digit having same number or not\n",
        "\n",
        "def solution(n):\n",
        "    count_0 = 0\n",
        "    count_1 = 0\n",
        "    x = list(str(n))  \n",
        "    for i in x: \n",
        "        if i == '0':\n",
        "            count_0 += 1\n",
        "        else :\n",
        "            count_1 += 1\n",
        "    if count_0 == 1 or count_1 == 1:\n",
        "        print(\"yes\")\n",
        "    else:\n",
        "        print(\"no\")\n",
        "\n",
        "#driver code   \n",
        "n = int(input(\"enter the value of digit contain 0 and 1 only :\"))\n",
        "solution(n)\n"
      ]
    },
    {
      "cell_type": "markdown",
      "id": "099d964e",
      "metadata": {
        "id": "099d964e"
      },
      "source": [
        "question 5"
      ]
    },
    {
      "cell_type": "code",
      "execution_count": null,
      "id": "ac02e47a",
      "metadata": {
        "id": "ac02e47a",
        "outputId": "83653cd6-aa70-4cde-f25c-76b36e94e686"
      },
      "outputs": [
        {
          "name": "stdout",
          "output_type": "stream",
          "text": [
            "enter the value of the number: 4\n",
            "factorial for the value is : \n",
            "24\n"
          ]
        }
      ],
      "source": [
        "#program to find factorial of number\n",
        "\n",
        "def factorial(n):\n",
        "    if n < 0:\n",
        "        print(\"enter the positive values : \")\n",
        "    elif n == 0:\n",
        "        return 1\n",
        "    else:\n",
        "        return n * factorial(n-1)\n",
        "    \n",
        "#driver code\n",
        "\n",
        "n=int(input(\"enter the value of the number: \"))\n",
        "x = factorial(n)\n",
        "print(\"factorial for the value is : \")\n",
        "print(x)"
      ]
    },
    {
      "cell_type": "markdown",
      "id": "71e9cc98",
      "metadata": {
        "id": "71e9cc98"
      },
      "source": [
        "question 6"
      ]
    },
    {
      "cell_type": "code",
      "execution_count": null,
      "id": "f6f58747",
      "metadata": {
        "id": "f6f58747",
        "outputId": "aeded4c2-596c-4dc1-d865-43b228b0d89d"
      },
      "outputs": [
        {
          "name": "stdout",
          "output_type": "stream",
          "text": [
            "[2000, 2002, 2004, 2006, 2008, 2020, 2022, 2024, 2026, 2028, 2040, 2042, 2044, 2046, 2048, 2060, 2062, 2064, 2066, 2068, 2080, 2082, 2084, 2086, 2088, 2200, 2202, 2204, 2206, 2208, 2220, 2222, 2224, 2226, 2228, 2240, 2242, 2244, 2246, 2248, 2260, 2262, 2264, 2266, 2268, 2280, 2282, 2284, 2286, 2288, 2400, 2402, 2404, 2406, 2408, 2420, 2422, 2424, 2426, 2428, 2440, 2442, 2444, 2446, 2448, 2460, 2462, 2464, 2466, 2468, 2480, 2482, 2484, 2486, 2488, 2600, 2602, 2604, 2606, 2608, 2620, 2622, 2624, 2626, 2628, 2640, 2642, 2644, 2646, 2648, 2660, 2662, 2664, 2666, 2668, 2680, 2682, 2684, 2686, 2688, 2800, 2802, 2804, 2806, 2808, 2820, 2822, 2824, 2826, 2828, 2840, 2842, 2844, 2846, 2848, 2860, 2862, 2864, 2866, 2868, 2880, 2882, 2884, 2886, 2888, 4000, 4002, 4004, 4006, 4008, 4020, 4022, 4024, 4026, 4028, 4040, 4042, 4044, 4046, 4048, 4060, 4062, 4064, 4066, 4068, 4080, 4082, 4084, 4086, 4088, 4200, 4202, 4204, 4206, 4208, 4220, 4222, 4224, 4226, 4228, 4240, 4242, 4244, 4246, 4248, 4260, 4262, 4264, 4266, 4268, 4280, 4282, 4284, 4286, 4288, 4400, 4402, 4404, 4406, 4408, 4420, 4422, 4424, 4426, 4428, 4440, 4442, 4444, 4446, 4448, 4460, 4462, 4464, 4466, 4468, 4480, 4482, 4484, 4486, 4488, 4600, 4602, 4604, 4606, 4608, 4620, 4622, 4624, 4626, 4628, 4640, 4642, 4644, 4646, 4648, 4660, 4662, 4664, 4666, 4668, 4680, 4682, 4684, 4686, 4688, 4800, 4802, 4804, 4806, 4808, 4820, 4822, 4824, 4826, 4828, 4840, 4842, 4844, 4846, 4848, 4860, 4862, 4864, 4866, 4868, 4880, 4882, 4884, 4886, 4888, 6000, 6002, 6004, 6006, 6008, 6020, 6022, 6024, 6026, 6028, 6040, 6042, 6044, 6046, 6048, 6060, 6062, 6064, 6066, 6068, 6080, 6082, 6084, 6086, 6088, 6200, 6202, 6204, 6206, 6208, 6220, 6222, 6224, 6226, 6228, 6240, 6242, 6244, 6246, 6248, 6260, 6262, 6264, 6266, 6268, 6280, 6282, 6284, 6286, 6288, 6400, 6402, 6404, 6406, 6408, 6420, 6422, 6424, 6426, 6428, 6440, 6442, 6444, 6446, 6448, 6460, 6462, 6464, 6466, 6468, 6480, 6482, 6484, 6486, 6488, 6600, 6602, 6604, 6606, 6608, 6620, 6622, 6624, 6626, 6628, 6640, 6642, 6644, 6646, 6648, 6660, 6662, 6664, 6666, 6668, 6680, 6682, 6684, 6686, 6688, 6800, 6802, 6804, 6806, 6808, 6820, 6822, 6824, 6826, 6828, 6840, 6842, 6844, 6846, 6848, 6860, 6862, 6864, 6866, 6868, 6880, 6882, 6884, 6886, 6888, 8000, 8002, 8004, 8006, 8008, 8020, 8022, 8024, 8026, 8028, 8040, 8042, 8044, 8046, 8048, 8060, 8062, 8064, 8066, 8068, 8080, 8082, 8084, 8086, 8088, 8200, 8202, 8204, 8206, 8208, 8220, 8222, 8224, 8226, 8228, 8240, 8242, 8244, 8246, 8248, 8260, 8262, 8264, 8266, 8268, 8280, 8282, 8284, 8286, 8288, 8400, 8402, 8404, 8406, 8408, 8420, 8422, 8424, 8426, 8428, 8440, 8442, 8444, 8446, 8448, 8460, 8462, 8464, 8466, 8468, 8480, 8482, 8484, 8486, 8488, 8600, 8602, 8604, 8606, 8608, 8620, 8622, 8624, 8626, 8628, 8640, 8642, 8644, 8646, 8648, 8660, 8662, 8664, 8666, 8668, 8680, 8682, 8684, 8686, 8688, 8800, 8802, 8804, 8806, 8808, 8820, 8822, 8824, 8826, 8828, 8840, 8842, 8844, 8846, 8848, 8860, 8862, 8864, 8866, 8868, 8880, 8882, 8884, 8886, 8888]\n"
          ]
        }
      ],
      "source": [
        "#program to print the number. All the digit in the number is even\n",
        "\n",
        "def solution(n,m):\n",
        "    required_array = []\n",
        "    for i in range(n,m):\n",
        "        num_to_string  = str(i)\n",
        "        a = list(num_to_string) \n",
        "        if (int(a[0])%2 == 0) and (int(a[1])%2 == 0) and (int(a[2])%2 == 0) and (int(a[3])%2 == 0):\n",
        "            required_array.append(i)\n",
        "    print(required_array)        \n",
        "\n",
        "#driver code\n",
        "    \n",
        "n = 1000\n",
        "m = 9000\n",
        "solution(n,m)"
      ]
    }
  ],
  "metadata": {
    "kernelspec": {
      "display_name": "Python 3 (ipykernel)",
      "language": "python",
      "name": "python3"
    },
    "language_info": {
      "codemirror_mode": {
        "name": "ipython",
        "version": 3
      },
      "file_extension": ".py",
      "mimetype": "text/x-python",
      "name": "python",
      "nbconvert_exporter": "python",
      "pygments_lexer": "ipython3",
      "version": "3.9.13"
    },
    "colab": {
      "provenance": [],
      "include_colab_link": true
    }
  },
  "nbformat": 4,
  "nbformat_minor": 5
}